{
  "nbformat": 4,
  "nbformat_minor": 0,
  "metadata": {
    "colab": {
      "name": "Invest-Tinkoff.ipynb",
      "provenance": []
    },
    "kernelspec": {
      "name": "python3",
      "display_name": "Python 3"
    }
  },
  "cells": [
    {
      "cell_type": "code",
      "metadata": {
        "id": "xjoHNlt0vNcv"
      },
      "source": [
        "import pandas as pd\r\n",
        "import numpy as np"
      ],
      "execution_count": 1,
      "outputs": []
    },
    {
      "cell_type": "code",
      "metadata": {
        "colab": {
          "base_uri": "https://localhost:8080/",
          "height": 202
        },
        "id": "qyIEkAegvTpQ",
        "outputId": "5cd1e391-fec0-4e9f-9584-31b1b34e30a3"
      },
      "source": [
        "data = pd.read_csv('new.csv')\r\n",
        "data.head()"
      ],
      "execution_count": 2,
      "outputs": [
        {
          "output_type": "execute_result",
          "data": {
            "text/html": [
              "<div>\n",
              "<style scoped>\n",
              "    .dataframe tbody tr th:only-of-type {\n",
              "        vertical-align: middle;\n",
              "    }\n",
              "\n",
              "    .dataframe tbody tr th {\n",
              "        vertical-align: top;\n",
              "    }\n",
              "\n",
              "    .dataframe thead th {\n",
              "        text-align: right;\n",
              "    }\n",
              "</style>\n",
              "<table border=\"1\" class=\"dataframe\">\n",
              "  <thead>\n",
              "    <tr style=\"text-align: right;\">\n",
              "      <th></th>\n",
              "      <th>Unnamed: 0</th>\n",
              "      <th>date</th>\n",
              "      <th>time</th>\n",
              "      <th>price</th>\n",
              "    </tr>\n",
              "  </thead>\n",
              "  <tbody>\n",
              "    <tr>\n",
              "      <th>0</th>\n",
              "      <td>0</td>\n",
              "      <td>20150105</td>\n",
              "      <td>100100</td>\n",
              "      <td>1064.0</td>\n",
              "    </tr>\n",
              "    <tr>\n",
              "      <th>1</th>\n",
              "      <td>1</td>\n",
              "      <td>20150105</td>\n",
              "      <td>100200</td>\n",
              "      <td>1064.0</td>\n",
              "    </tr>\n",
              "    <tr>\n",
              "      <th>2</th>\n",
              "      <td>2</td>\n",
              "      <td>20150105</td>\n",
              "      <td>100300</td>\n",
              "      <td>1064.0</td>\n",
              "    </tr>\n",
              "    <tr>\n",
              "      <th>3</th>\n",
              "      <td>3</td>\n",
              "      <td>20150105</td>\n",
              "      <td>100400</td>\n",
              "      <td>1064.0</td>\n",
              "    </tr>\n",
              "    <tr>\n",
              "      <th>4</th>\n",
              "      <td>4</td>\n",
              "      <td>20150105</td>\n",
              "      <td>100500</td>\n",
              "      <td>1064.0</td>\n",
              "    </tr>\n",
              "  </tbody>\n",
              "</table>\n",
              "</div>"
            ],
            "text/plain": [
              "   Unnamed: 0      date    time   price\n",
              "0           0  20150105  100100  1064.0\n",
              "1           1  20150105  100200  1064.0\n",
              "2           2  20150105  100300  1064.0\n",
              "3           3  20150105  100400  1064.0\n",
              "4           4  20150105  100500  1064.0"
            ]
          },
          "metadata": {
            "tags": []
          },
          "execution_count": 2
        }
      ]
    },
    {
      "cell_type": "code",
      "metadata": {
        "id": "Aa-85_eIxtpa"
      },
      "source": [
        "data['date']= data['date'].map(str)\r\n",
        "data['time']= data['time'].map(str)\r\n",
        "data['year'], data['month'], data['day'] = data['date'].map(lambda x: x[:4]), data['date'].map(lambda x: x[4:6]), data['date'].map(lambda x: x[6:8])\r\n",
        "data['hour'], data['minute'], data['second'] = data['time'].map(lambda x: x[:2]), data['time'].map(lambda x: x[2:4]), data['time'].map(lambda x: x[4:6])"
      ],
      "execution_count": 3,
      "outputs": []
    },
    {
      "cell_type": "code",
      "metadata": {
        "colab": {
          "base_uri": "https://localhost:8080/",
          "height": 415
        },
        "id": "2sofwkQwvTrn",
        "outputId": "2dedb0e3-b6fd-4467-b11a-62854b3333ac"
      },
      "source": [
        "df = data\r\n",
        "df"
      ],
      "execution_count": 4,
      "outputs": [
        {
          "output_type": "execute_result",
          "data": {
            "text/html": [
              "<div>\n",
              "<style scoped>\n",
              "    .dataframe tbody tr th:only-of-type {\n",
              "        vertical-align: middle;\n",
              "    }\n",
              "\n",
              "    .dataframe tbody tr th {\n",
              "        vertical-align: top;\n",
              "    }\n",
              "\n",
              "    .dataframe thead th {\n",
              "        text-align: right;\n",
              "    }\n",
              "</style>\n",
              "<table border=\"1\" class=\"dataframe\">\n",
              "  <thead>\n",
              "    <tr style=\"text-align: right;\">\n",
              "      <th></th>\n",
              "      <th>Unnamed: 0</th>\n",
              "      <th>date</th>\n",
              "      <th>time</th>\n",
              "      <th>price</th>\n",
              "      <th>year</th>\n",
              "      <th>month</th>\n",
              "      <th>day</th>\n",
              "      <th>hour</th>\n",
              "      <th>minute</th>\n",
              "      <th>second</th>\n",
              "    </tr>\n",
              "  </thead>\n",
              "  <tbody>\n",
              "    <tr>\n",
              "      <th>0</th>\n",
              "      <td>0</td>\n",
              "      <td>20150105</td>\n",
              "      <td>100100</td>\n",
              "      <td>1064.0</td>\n",
              "      <td>2015</td>\n",
              "      <td>01</td>\n",
              "      <td>05</td>\n",
              "      <td>10</td>\n",
              "      <td>01</td>\n",
              "      <td>00</td>\n",
              "    </tr>\n",
              "    <tr>\n",
              "      <th>1</th>\n",
              "      <td>1</td>\n",
              "      <td>20150105</td>\n",
              "      <td>100200</td>\n",
              "      <td>1064.0</td>\n",
              "      <td>2015</td>\n",
              "      <td>01</td>\n",
              "      <td>05</td>\n",
              "      <td>10</td>\n",
              "      <td>02</td>\n",
              "      <td>00</td>\n",
              "    </tr>\n",
              "    <tr>\n",
              "      <th>2</th>\n",
              "      <td>2</td>\n",
              "      <td>20150105</td>\n",
              "      <td>100300</td>\n",
              "      <td>1064.0</td>\n",
              "      <td>2015</td>\n",
              "      <td>01</td>\n",
              "      <td>05</td>\n",
              "      <td>10</td>\n",
              "      <td>03</td>\n",
              "      <td>00</td>\n",
              "    </tr>\n",
              "    <tr>\n",
              "      <th>3</th>\n",
              "      <td>3</td>\n",
              "      <td>20150105</td>\n",
              "      <td>100400</td>\n",
              "      <td>1064.0</td>\n",
              "      <td>2015</td>\n",
              "      <td>01</td>\n",
              "      <td>05</td>\n",
              "      <td>10</td>\n",
              "      <td>04</td>\n",
              "      <td>00</td>\n",
              "    </tr>\n",
              "    <tr>\n",
              "      <th>4</th>\n",
              "      <td>4</td>\n",
              "      <td>20150105</td>\n",
              "      <td>100500</td>\n",
              "      <td>1064.0</td>\n",
              "      <td>2015</td>\n",
              "      <td>01</td>\n",
              "      <td>05</td>\n",
              "      <td>10</td>\n",
              "      <td>05</td>\n",
              "      <td>00</td>\n",
              "    </tr>\n",
              "    <tr>\n",
              "      <th>...</th>\n",
              "      <td>...</td>\n",
              "      <td>...</td>\n",
              "      <td>...</td>\n",
              "      <td>...</td>\n",
              "      <td>...</td>\n",
              "      <td>...</td>\n",
              "      <td>...</td>\n",
              "      <td>...</td>\n",
              "      <td>...</td>\n",
              "      <td>...</td>\n",
              "    </tr>\n",
              "    <tr>\n",
              "      <th>262103</th>\n",
              "      <td>131537</td>\n",
              "      <td>20161230</td>\n",
              "      <td>183800</td>\n",
              "      <td>1248.5</td>\n",
              "      <td>2016</td>\n",
              "      <td>12</td>\n",
              "      <td>30</td>\n",
              "      <td>18</td>\n",
              "      <td>38</td>\n",
              "      <td>00</td>\n",
              "    </tr>\n",
              "    <tr>\n",
              "      <th>262104</th>\n",
              "      <td>131538</td>\n",
              "      <td>20161230</td>\n",
              "      <td>183900</td>\n",
              "      <td>1248.5</td>\n",
              "      <td>2016</td>\n",
              "      <td>12</td>\n",
              "      <td>30</td>\n",
              "      <td>18</td>\n",
              "      <td>39</td>\n",
              "      <td>00</td>\n",
              "    </tr>\n",
              "    <tr>\n",
              "      <th>262105</th>\n",
              "      <td>131539</td>\n",
              "      <td>20161230</td>\n",
              "      <td>184000</td>\n",
              "      <td>1248.5</td>\n",
              "      <td>2016</td>\n",
              "      <td>12</td>\n",
              "      <td>30</td>\n",
              "      <td>18</td>\n",
              "      <td>40</td>\n",
              "      <td>00</td>\n",
              "    </tr>\n",
              "    <tr>\n",
              "      <th>262106</th>\n",
              "      <td>131540</td>\n",
              "      <td>20161230</td>\n",
              "      <td>184600</td>\n",
              "      <td>1247.5</td>\n",
              "      <td>2016</td>\n",
              "      <td>12</td>\n",
              "      <td>30</td>\n",
              "      <td>18</td>\n",
              "      <td>46</td>\n",
              "      <td>00</td>\n",
              "    </tr>\n",
              "    <tr>\n",
              "      <th>262107</th>\n",
              "      <td>131541</td>\n",
              "      <td>20161230</td>\n",
              "      <td>184900</td>\n",
              "      <td>1247.5</td>\n",
              "      <td>2016</td>\n",
              "      <td>12</td>\n",
              "      <td>30</td>\n",
              "      <td>18</td>\n",
              "      <td>49</td>\n",
              "      <td>00</td>\n",
              "    </tr>\n",
              "  </tbody>\n",
              "</table>\n",
              "<p>262108 rows × 10 columns</p>\n",
              "</div>"
            ],
            "text/plain": [
              "        Unnamed: 0      date    time   price  year month day hour minute second\n",
              "0                0  20150105  100100  1064.0  2015    01  05   10     01     00\n",
              "1                1  20150105  100200  1064.0  2015    01  05   10     02     00\n",
              "2                2  20150105  100300  1064.0  2015    01  05   10     03     00\n",
              "3                3  20150105  100400  1064.0  2015    01  05   10     04     00\n",
              "4                4  20150105  100500  1064.0  2015    01  05   10     05     00\n",
              "...            ...       ...     ...     ...   ...   ...  ..  ...    ...    ...\n",
              "262103      131537  20161230  183800  1248.5  2016    12  30   18     38     00\n",
              "262104      131538  20161230  183900  1248.5  2016    12  30   18     39     00\n",
              "262105      131539  20161230  184000  1248.5  2016    12  30   18     40     00\n",
              "262106      131540  20161230  184600  1247.5  2016    12  30   18     46     00\n",
              "262107      131541  20161230  184900  1247.5  2016    12  30   18     49     00\n",
              "\n",
              "[262108 rows x 10 columns]"
            ]
          },
          "metadata": {
            "tags": []
          },
          "execution_count": 4
        }
      ]
    },
    {
      "cell_type": "code",
      "metadata": {
        "id": "sngl1g216vmt"
      },
      "source": [
        "df = df.assign(datetime=[f\"{str(year)}-{str(month)}-{str(day)} {str(hour)}:{str(minute)}:{str(second)}\" for year, month, day, hour, minute, second in zip(df['year'], df['month'], df['day'], df['hour'], df['minute'], df['second'])])[['price', 'datetime']]"
      ],
      "execution_count": 5,
      "outputs": []
    },
    {
      "cell_type": "code",
      "metadata": {
        "colab": {
          "base_uri": "https://localhost:8080/",
          "height": 283
        },
        "id": "geOZalD69GiH",
        "outputId": "dcca4629-0c81-4221-daa0-0a423ca0aa29"
      },
      "source": [
        "import matplotlib.pyplot as plt\r\n",
        "\r\n",
        "df.plot()"
      ],
      "execution_count": 37,
      "outputs": [
        {
          "output_type": "execute_result",
          "data": {
            "text/plain": [
              "<matplotlib.axes._subplots.AxesSubplot at 0x7feb09b165c0>"
            ]
          },
          "metadata": {
            "tags": []
          },
          "execution_count": 37
        },
        {
          "output_type": "display_data",
          "data": {
            "image/png": "[encoded data removed]",
            "text/plain": [
              "<Figure size 432x288 with 1 Axes>"
            ]
          },
          "metadata": {
            "tags": [],
            "needs_background": "light"
          }
        }
      ]
    },
    {
      "cell_type": "markdown",
      "metadata": {
        "id": "UtmP_a4XGTIl"
      },
      "source": [
        " ## Возможно совершить максимум одну транзакцию покупки-продажи"
      ]
    },
    {
      "cell_type": "code",
      "metadata": {
        "id": "YsL-lPWJvTtq"
      },
      "source": [
        "def maxProfit(price):\r\n",
        "  left, right = 0, 1\r\n",
        "  profit = 0\r\n",
        "  low, high = 0, 0\r\n",
        "  while(right < len(price)):\r\n",
        "    if price[left] <= price[right]:\r\n",
        "      if price[right] - price[left] > profit:\r\n",
        "        profit = price[right] - price[left]\r\n",
        "        low, high = left, right\r\n",
        "      right += 1\r\n",
        "    else:\r\n",
        "      left = right\r\n",
        "      right += 1\r\n",
        "        \r\n",
        "  return profit, low, high"
      ],
      "execution_count": 119,
      "outputs": []
    },
    {
      "cell_type": "code",
      "metadata": {
        "colab": {
          "base_uri": "https://localhost:8080/"
        },
        "id": "XZ09XAND3LtF",
        "outputId": "8f68eea4-2fef-4861-b2cc-ce7fdb10451a"
      },
      "source": [
        "profit, day1, day2 = maxProfit(list(df.price))\r\n",
        "print(\"Дата покупки: \",list(df.datetime[df.index == day1]), \"\\t\", \"Дата продажи: \",list(df.datetime[df.index == day2]), '\\t', 'Прибыль: ',profit)"
      ],
      "execution_count": 120,
      "outputs": [
        {
          "output_type": "stream",
          "text": [
            "Дата покупки:  ['2015-09-29 11:02:00'] \t Дата продажи:  ['2016-07-28 16:34:00'] \t Прибыль:  856.0\n"
          ],
          "name": "stdout"
        }
      ]
    },
    {
      "cell_type": "code",
      "metadata": {
        "colab": {
          "base_uri": "https://localhost:8080/"
        },
        "id": "o-fV70p8bwoJ",
        "outputId": "971ee325-4ea2-447d-be57-707f8165b981"
      },
      "source": [
        "day1"
      ],
      "execution_count": 77,
      "outputs": [
        {
          "output_type": "execute_result",
          "data": {
            "text/plain": [
              "96149"
            ]
          },
          "metadata": {
            "tags": []
          },
          "execution_count": 77
        }
      ]
    },
    {
      "cell_type": "markdown",
      "metadata": {
        "id": "CaNx9roxMFKB"
      },
      "source": [
        "## Возможно совершить до двух транзакций покупки-продажи, но нельзя накапливать акции в портфеле, то есть каждый раз перед покупкой вы должны сначала продать все имеющиеся акции."
      ]
    },
    {
      "cell_type": "code",
      "metadata": {
        "id": "THibYHClUqjS"
      },
      "source": [
        "def max_profit_ii_1(prices):\r\n",
        "    first_buy, second_buy, first_profit, second_profit = 1e9,1e9, 0, 0\r\n",
        "    p1, p2 = 0, 0\r\n",
        "    b1, b2 = 0, 0\r\n",
        "    y = [] \r\n",
        "    i = 0\r\n",
        "    while i < len(prices):\r\n",
        "        if prices[i] < first_buy:\r\n",
        "          first_buy = prices[i]\r\n",
        "          p1 = i\r\n",
        "        if (prices[i] - first_buy) > first_profit:\r\n",
        "          first_profit = max(first_profit, prices[i] - first_buy)\r\n",
        "          p2 = i\r\n",
        "        if prices[i] - first_profit < second_buy:\r\n",
        "          second_buy = prices[i] - first_profit\r\n",
        "          b1 = i\r\n",
        "        if (prices[i] - second_buy) > second_profit:\r\n",
        "          second_profit = max(second_profit, prices[i] - second_buy)\r\n",
        "          b2 = i\r\n",
        "          \r\n",
        "        i+=1\r\n",
        "    return first_profit, p1, p2, second_profit, b1, b2"
      ],
      "execution_count": 123,
      "outputs": []
    },
    {
      "cell_type": "code",
      "metadata": {
        "colab": {
          "base_uri": "https://localhost:8080/"
        },
        "id": "cV2LuiU2UvWF",
        "outputId": "12e48c4d-105f-4a8f-b980-7cfcdf5e7174"
      },
      "source": [
        "profit1, day1_first, day2_first, profit2, day1_second, day2_second = max_profit_ii_1(list(df.price))\r\n",
        "print(\"Дата покупки: \",list(df.datetime[df.index == min(day1_first, day2_first)]), \"\\t\", \"Дата продажи: \",list(df.datetime[df.index == max(day1_first, day2_first)]), '\\t', 'Прибыль: ',profit1)\r\n",
        "print(\"Дата покупки: \",list(df.datetime[df.index == min(day1_second, day2_second)]), \"\\t\", \"Дата продажи: \",list(df.datetime[df.index == max(day1_second, day2_second)]), '\\t', 'Прибыль: ',profit2)"
      ],
      "execution_count": 124,
      "outputs": [
        {
          "output_type": "stream",
          "text": [
            "Дата покупки:  ['2015-09-29 11:02:00'] \t Дата продажи:  ['2016-07-28 16:34:00'] \t Прибыль:  856.0\n",
            "Дата покупки:  ['2016-07-28 16:34:00'] \t Дата продажи:  ['2016-11-17 18:39:00'] \t Прибыль:  1109.8\n"
          ],
          "name": "stdout"
        }
      ]
    },
    {
      "cell_type": "markdown",
      "metadata": {
        "id": "ZipNPExUhoy6"
      },
      "source": [
        "Код не всегда правильно вычисляет дату второй покупки, но прибыль по ней правильная"
      ]
    }
  ]
}