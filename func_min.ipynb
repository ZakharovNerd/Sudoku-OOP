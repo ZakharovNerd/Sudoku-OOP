{
  "nbformat": 4,
  "nbformat_minor": 0,
  "metadata": {
    "kernelspec": {
      "display_name": "Python 3",
      "language": "python",
      "name": "python3"
    },
    "language_info": {
      "codemirror_mode": {
        "name": "ipython",
        "version": 3
      },
      "file_extension": ".py",
      "mimetype": "text/x-python",
      "name": "python",
      "nbconvert_exporter": "python",
      "pygments_lexer": "ipython3",
      "version": "3.8.5"
    },
    "colab": {
      "name": "func_min.ipynb",
      "provenance": []
    }
  },
  "cells": [
    {
      "cell_type": "code",
      "metadata": {
        "id": "SlFJR1YmrY0z"
      },
      "source": [
        "import numpy as np "
      ],
      "execution_count": 1,
      "outputs": []
    },
    {
      "cell_type": "code",
      "metadata": {
        "id": "Hm3GF2D6rY02"
      },
      "source": [
        "import numpy as np\n",
        "\n",
        "def f(x, y):\n",
        "  \"\"\"\n",
        "  :param x: np.array(np.float) размерности 2\n",
        "  :return: np.float\n",
        "  \"\"\"\n",
        "  return 6*(x**6)+2*(x**4)*(y**2)+10*(x**2)+6*x*y+10*(y**2)-6*x+4\n",
        "\n",
        "\n",
        "def grad_f(x, y):\n",
        "  \"\"\"\n",
        "  Градиент функциии из учебного ноутбука.\n",
        "  :param x: np.array размерности 2\n",
        "  :return: np.array(np.float) размерности 2\n",
        "  \"\"\"\n",
        "  return np.array([36*(x**5)+8*(x**3)*(y**2)+20*x+6*y-6 , 4*(x**4)*y+6*x+20*y])\n",
        "\n",
        "\n",
        "def grad_descent_2d(f, grad_f, lr, num_iter=100, x0=None, y0=None):\n",
        "    \"\"\"\n",
        "    функция, которая реализует градиентный спуск в минимум для функции f от двух переменных. \n",
        "        :param f: скалярная функция двух переменных\n",
        "        :param grad_f: градиент функции f (вектор размерности 2)\n",
        "        :param lr: learning rate алгоритма\n",
        "        :param num_iter: количество итераций градиентного спуска\n",
        "        :return: np.array пар вида (x, f(x))\n",
        "    \"\"\"\n",
        "    if x0 is None:\n",
        "        x0 = np.random.random(1)\n",
        "        \n",
        "    if y0 is None:\n",
        "        y0 = np.random.random(1)\n",
        "\n",
        "    # будем сохранять значения аргументов и значений функции \n",
        "    # в процессе град. спуска в переменную history\n",
        "    history = []\n",
        "\n",
        "    # итерация цикла -- шаг градиентнго спуска\n",
        "    curr_x = x0\n",
        "    curr_y = y0\n",
        "    for iter_num in range(num_iter):\n",
        "        x, y = lr * grad_f(curr_x, curr_y)\n",
        "\n",
        "        curr_x -= x\n",
        "        curr_y -= y\n",
        "\n",
        "    return curr_x, curr_y"
      ],
      "execution_count": 8,
      "outputs": []
    },
    {
      "cell_type": "code",
      "metadata": {
        "colab": {
          "base_uri": "https://localhost:8080/"
        },
        "id": "hrBxZ80JrY05",
        "outputId": "03c2986e-91a0-42e7-af10-4733d200a329"
      },
      "source": [
        "grad_descent_2d(f, grad_f, 0.01, num_iter=100000)"
      ],
      "execution_count": 14,
      "outputs": [
        {
          "output_type": "execute_result",
          "data": {
            "text/plain": [
              "(array([0.32255726]), array([-0.09655813]))"
            ]
          },
          "metadata": {
            "tags": []
          },
          "execution_count": 14
        }
      ]
    },
    {
      "cell_type": "markdown",
      "metadata": {
        "id": "TQIyR4P0tKIb"
      },
      "source": [
        "Это x и y, при которых функция минимальна"
      ]
    },
    {
      "cell_type": "code",
      "metadata": {
        "colab": {
          "base_uri": "https://localhost:8080/"
        },
        "id": "bF6SVEjHrY06",
        "outputId": "64316aef-bb45-491d-a1b4-004ef4a36995"
      },
      "source": [
        "f(0.32255726, -0.09655813)"
      ],
      "execution_count": 15,
      "outputs": [
        {
          "output_type": "execute_result",
          "data": {
            "text/plain": [
              "3.0184093175913764"
            ]
          },
          "metadata": {
            "tags": []
          },
          "execution_count": 15
        }
      ]
    },
    {
      "cell_type": "markdown",
      "metadata": {
        "id": "eVKOXwURtP1L"
      },
      "source": [
        "значение функции в этой точке"
      ]
    }
  ]
}